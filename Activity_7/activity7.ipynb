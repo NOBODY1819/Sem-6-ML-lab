{
 "cells": [
  {
   "cell_type": "markdown",
   "metadata": {},
   "source": [
    "Implement the web scraping on Amazon website or any shopping site by importing the requests and the Beautiful Soup.\n",
    "\n",
    "Date: 08-05-2024"
   ]
  },
  {
   "cell_type": "code",
   "execution_count": 1,
   "metadata": {},
   "outputs": [],
   "source": [
    "from bs4 import BeautifulSoup\n",
    "import requests"
   ]
  },
  {
   "cell_type": "code",
   "execution_count": 2,
   "metadata": {},
   "outputs": [],
   "source": [
    "# Function to extract Product Title\n",
    "def get_title(soup):\n",
    "    try:\n",
    "        title = soup.find(\"span\", attrs={\"id\": \"productTitle\"})\n",
    "        title_string = title.get_text(strip=True)\n",
    "    except AttributeError:\n",
    "        title_string=\"\"\n",
    "    return title_string\n",
    "\n",
    "# Function to extract Product Price\n",
    "def get_price(soup):\n",
    "    try:\n",
    "        price = soup.find(\"span\", attrs= {\"class\": \"a-offscreen\"})\n",
    "        if price is not None:\n",
    "            price_string = price.get_text(strip=True)\n",
    "        else:\n",
    "            price_string=\"\"\n",
    "    except AttributeError:\n",
    "        price_string = \"\"\n",
    "    return price_string\n",
    "\n",
    "# Function to extract Product Rating\n",
    "def get_rating(soup):\n",
    "    try:\n",
    "        rating = soup.find(\"span\", attrs= {\"class\": \"a-icon-alt\"})\n",
    "        if rating is not None:\n",
    "            rating_string = rating.get_text(strip=True)\n",
    "        else:\n",
    "            rating_string=\"\"\n",
    "    except AttributeError:\n",
    "        rating_string= \"\"\n",
    "    return rating_string\n",
    "\n",
    "# Function to extract Number of User Reviews\n",
    "def get_review_count(soup):\n",
    "    try:\n",
    "        review_count = soup.find(\"span\", attrs={\"id\": \"acrCustomerReviewText\"})\n",
    "        if review_count is not None:\n",
    "            review_count_string = review_count.get_text(strip=True)\n",
    "        else:\n",
    "            review_count_string = \"\"\n",
    "    except AttributeError:\n",
    "        review_count_string = \"\"\n",
    "    return review_count_string            \n",
    "        \n",
    "# Function to extract Availability Status\n",
    "def get_availability(soup):\n",
    "    try:\n",
    "        availability = soup.find(\"span\", attrs= {\"id\": \"availability\"})\n",
    "        if availability is not None:\n",
    "            availability_string = availability.get_text(strip=True)\n",
    "        else:\n",
    "            availability_string=\"\"\n",
    "    except AttributeError:\n",
    "        availability_string= \"\"\n",
    "    return availability_string\n"
   ]
  },
  {
   "cell_type": "code",
   "execution_count": 3,
   "metadata": {},
   "outputs": [
    {
     "name": "stdout",
     "output_type": "stream",
     "text": [
      "Product Title =  HP Laptop 15s, 12th Gen Intel Core i3, 15.6-inch (39.6 cm), 8GB DDR4, 512GB SSD, Thin & Light, Dual Speakers (Win 11, MSO 2021, Silver, 1.69 kg), fq5007TU / FQ5327TU\n",
      "Product Price =  ₹35,879.00\n",
      "Product Rating =  4.0 out of 5 stars\n",
      "Number of Product Reviews =  810 ratings\n",
      "Availability =  \n"
     ]
    }
   ],
   "source": [
    "if __name__ == \"__main__\":\n",
    "    #Headers for request\n",
    "    headers = {\n",
    "        \"User-Agent\": \"Mozilla/5.0 (Windows NT 10.0: Win64; x64) AppleWebKit/537.36 (KHTML. like gecko) Chrome/124.0.0. Safari/537.36\",\n",
    "        \"Accept-Language\" : \"en-US, en;q=0.5\"\n",
    "    }\n",
    "    \n",
    "    # The webpage URL\n",
    "    url = \"https://www.amazon.in/HP-i3-1215U-15-6-inch-Graphics-Speakers/dp/B0BP2M7CCS/ref=sr_1_3?crid=35WC0HWGXROL0&dib=eyJ2IjoiMSJ9.56MtnFAWzi2JuWv0CsiCCEgiOOspPkYKMu6MtkzHHhBliQBI2aXAyG3LZZcipgYaZoiMlADV5clC6QvogMdjTQYkKlY3fP6RYRaPWEJlEVkIm_ccR5YUXECyuMUAg2VMXBE5sECZezvW0_crTB3TrMumaNnIkkfaALDxf_hJGBkpI1FpPVADfgnF9PC2ZCoqZ1Dvk1Wn9Mcm7sn-EUeoIoMN6JJDI8Jy9lohlpBd8TA.JaN_SH_POT9zbz5G_tCyjwFLX2whaet7oWwkL4Esv78&dib_tag=se&keywords=laptop&qid=1715512814&sprefix=lap%2Caps%2C289&sr=8-3\"\n",
    "\n",
    "    # HTTP Request\n",
    "    webpage = requests.get(url, headers=headers)\n",
    "\n",
    "    # Soup Object containing all data\n",
    "    soup = BeautifulSoup(webpage.content, \"lxml\")\n",
    "\n",
    "    # Function calls to display all necessary product information \n",
    "    print(\"Product Title = \", get_title(soup))\n",
    "    print(\"Product Price = \", get_price(soup))\n",
    "    print(\"Product Rating = \", get_rating(soup))\n",
    "    print(\"Number of Product Reviews = \", get_review_count(soup))\n",
    "    print(\"Availability = \", get_availability(soup))\n"
   ]
  }
 ],
 "metadata": {
  "kernelspec": {
   "display_name": "Python 3",
   "language": "python",
   "name": "python3"
  },
  "language_info": {
   "codemirror_mode": {
    "name": "ipython",
    "version": 3
   },
   "file_extension": ".py",
   "mimetype": "text/x-python",
   "name": "python",
   "nbconvert_exporter": "python",
   "pygments_lexer": "ipython3",
   "version": "3.12.2"
  }
 },
 "nbformat": 4,
 "nbformat_minor": 2
}
