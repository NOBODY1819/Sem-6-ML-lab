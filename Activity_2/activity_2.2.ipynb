{
 "cells": [
  {
   "cell_type": "code",
   "execution_count": 8,
   "metadata": {},
   "outputs": [],
   "source": [
    "import numpy as np\n",
    "import pandas as pd\n",
    "\n",
    "data = pd.read_csv('data.csv')"
   ]
  },
  {
   "cell_type": "code",
   "execution_count": 9,
   "metadata": {},
   "outputs": [],
   "source": [
    "concepts = np.array(data.iloc[:,0:-1])\n",
    "target = np.array(data.iloc[:,-1])"
   ]
  },
  {
   "cell_type": "code",
   "execution_count": 15,
   "metadata": {},
   "outputs": [
    {
     "name": "stdout",
     "output_type": "stream",
     "text": [
      "     sky air temp humdity    wind water forecast enjoy sports\n",
      "0  sunny     warm  normal  strong  warm     same          yes\n",
      "1  sunny     warm    high  strong  warm     same          yes\n",
      "2  rainy     cold    high  strong  warm   change           no\n",
      "3  sunny     warm    high  strong  cool   change          yes\n",
      "Initialization of specific_h and general_h\n",
      "Specific Boundary :  ['sunny' 'warm' 'normal' 'strong' 'warm' 'same']\n",
      "Generic Boundary :  [['?', '?', '?', '?', '?', '?'], ['?', '?', '?', '?', '?', '?'], ['?', '?', '?', '?', '?', '?'], ['?', '?', '?', '?', '?', '?'], ['?', '?', '?', '?', '?', '?'], ['?', '?', '?', '?', '?', '?']]\n",
      "\n",
      "Instance 1 is ['sunny' 'warm' 'normal' 'strong' 'warm' 'same']\n",
      "Instance is Positive\n",
      "Specific Boundary after  1 Onstance is :  ['sunny' 'warm' 'normal' 'strong' 'warm' 'same']\n",
      "Generic Boundary after  1 Instanse is :  [['?', '?', '?', '?', '?', '?'], ['?', '?', '?', '?', '?', '?'], ['?', '?', '?', '?', '?', '?'], ['?', '?', '?', '?', '?', '?'], ['?', '?', '?', '?', '?', '?'], ['?', '?', '?', '?', '?', '?']]\n",
      "\n",
      "Instance 2 is ['sunny' 'warm' 'high' 'strong' 'warm' 'same']\n",
      "Instance is Positive\n",
      "Specific Boundary after  2 Onstance is :  ['sunny' 'warm' '?' 'strong' 'warm' 'same']\n",
      "Generic Boundary after  2 Instanse is :  [['?', '?', '?', '?', '?', '?'], ['?', '?', '?', '?', '?', '?'], ['?', '?', '?', '?', '?', '?'], ['?', '?', '?', '?', '?', '?'], ['?', '?', '?', '?', '?', '?'], ['?', '?', '?', '?', '?', '?']]\n",
      "\n",
      "Instance 3 is ['rainy' 'cold' 'high' 'strong' 'warm' 'change']\n",
      "Instance is Negative\n",
      "Specific Boundary after  3 Onstance is :  ['sunny' 'warm' '?' 'strong' 'warm' 'same']\n",
      "Generic Boundary after  3 Instanse is :  [['sunny', '?', '?', '?', '?', '?'], ['?', 'warm', '?', '?', '?', '?'], ['?', '?', '?', '?', '?', '?'], ['?', '?', '?', '?', '?', '?'], ['?', '?', '?', '?', '?', '?'], ['?', '?', '?', '?', '?', 'same']]\n",
      "\n",
      "Instance 4 is ['sunny' 'warm' 'high' 'strong' 'cool' 'change']\n",
      "Instance is Positive\n",
      "Specific Boundary after  4 Onstance is :  ['sunny' 'warm' '?' 'strong' '?' '?']\n",
      "Generic Boundary after  4 Instanse is :  [['sunny', '?', '?', '?', '?', '?'], ['?', 'warm', '?', '?', '?', '?'], ['?', '?', '?', '?', '?', '?'], ['?', '?', '?', '?', '?', '?'], ['?', '?', '?', '?', '?', '?'], ['?', '?', '?', '?', '?', '?']]\n",
      "\n",
      "Final Specific_h :  ['sunny' 'warm' '?' 'strong' '?' '?']\n",
      "Final General_h :  [['sunny', '?', '?', '?', '?', '?'], ['?', 'warm', '?', '?', '?', '?']]\n"
     ]
    }
   ],
   "source": [
    "def learn(con,tar):\n",
    "    specific_h = con[0].copy()\n",
    "    print('Initialization of specific_h and general_h')\n",
    "    print('Specific Boundary : ',specific_h)\n",
    "    general_h = [[\"?\" for i in range(len(specific_h))] for i in range(len(specific_h))]\n",
    "    print(\"Generic Boundary : \",general_h)\n",
    "    for i,h in enumerate(con):\n",
    "        print('\\nInstance',i+1,\"is\",h)\n",
    "        if tar[i] == 'yes':\n",
    "            print('Instance is Positive')\n",
    "            for x in range(len(specific_h)):\n",
    "                if h[x] != specific_h[x]:\n",
    "                    specific_h[x]=\"?\"\n",
    "                    general_h[x][x]='?'\n",
    "        elif tar[i] == 'no':\n",
    "            print('Instance is Negative')\n",
    "            for x in range(len(specific_h)):\n",
    "                if h[x] != specific_h[x]:\n",
    "                    general_h[x][x] = specific_h[x]\n",
    "                else:\n",
    "                    general_h[x][x]='?'\n",
    "        print('Specific Boundary after ',i+1,'Onstance is : ',specific_h)\n",
    "        print(\"Generic Boundary after \",i+1,\"Instanse is : \",general_h)\n",
    "    indices = [i for i,val in enumerate(general_h) if val == ['?','?','?','?','?','?']]\n",
    "    for i in indices:\n",
    "        general_h.remove(['?','?','?','?','?','?'])\n",
    "    return specific_h,general_h\n",
    "s_final,g_final = learn(concepts,target)\n",
    "print('\\nFinal Specific_h : ',s_final)\n",
    "print('Final General_h : ',g_final)"
   ]
  }
 ],
 "metadata": {
  "kernelspec": {
   "display_name": "Python 3",
   "language": "python",
   "name": "python3"
  },
  "language_info": {
   "codemirror_mode": {
    "name": "ipython",
    "version": 3
   },
   "file_extension": ".py",
   "mimetype": "text/x-python",
   "name": "python",
   "nbconvert_exporter": "python",
   "pygments_lexer": "ipython3",
   "version": "3.10.5"
  }
 },
 "nbformat": 4,
 "nbformat_minor": 2
}
