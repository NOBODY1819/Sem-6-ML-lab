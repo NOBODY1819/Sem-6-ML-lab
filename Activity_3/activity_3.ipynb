{
 "cells": [
  {
   "cell_type": "code",
   "execution_count": 1,
   "metadata": {},
   "outputs": [],
   "source": [
    "import pandas as pd \n",
    "import numpy as np \n",
    "data=pd.read_csv('data.csv')"
   ]
  },
  {
   "cell_type": "code",
   "execution_count": 2,
   "metadata": {},
   "outputs": [
    {
     "data": {
      "text/html": [
       "<div>\n",
       "<style scoped>\n",
       "    .dataframe tbody tr th:only-of-type {\n",
       "        vertical-align: middle;\n",
       "    }\n",
       "\n",
       "    .dataframe tbody tr th {\n",
       "        vertical-align: top;\n",
       "    }\n",
       "\n",
       "    .dataframe thead th {\n",
       "        text-align: right;\n",
       "    }\n",
       "</style>\n",
       "<table border=\"1\" class=\"dataframe\">\n",
       "  <thead>\n",
       "    <tr style=\"text-align: right;\">\n",
       "      <th></th>\n",
       "      <th>name</th>\n",
       "      <th>age</th>\n",
       "      <th>gender</th>\n",
       "      <th>Marks</th>\n",
       "    </tr>\n",
       "  </thead>\n",
       "  <tbody>\n",
       "    <tr>\n",
       "      <th>0</th>\n",
       "      <td>Jai</td>\n",
       "      <td>17</td>\n",
       "      <td>M</td>\n",
       "      <td>90.0</td>\n",
       "    </tr>\n",
       "    <tr>\n",
       "      <th>1</th>\n",
       "      <td>Princi</td>\n",
       "      <td>17</td>\n",
       "      <td>F</td>\n",
       "      <td>76.0</td>\n",
       "    </tr>\n",
       "    <tr>\n",
       "      <th>2</th>\n",
       "      <td>Gaurav</td>\n",
       "      <td>18</td>\n",
       "      <td>M</td>\n",
       "      <td>NaN</td>\n",
       "    </tr>\n",
       "    <tr>\n",
       "      <th>3</th>\n",
       "      <td>Anuj</td>\n",
       "      <td>17</td>\n",
       "      <td>M</td>\n",
       "      <td>74.0</td>\n",
       "    </tr>\n",
       "    <tr>\n",
       "      <th>4</th>\n",
       "      <td>Ravi</td>\n",
       "      <td>18</td>\n",
       "      <td>M</td>\n",
       "      <td>65.0</td>\n",
       "    </tr>\n",
       "    <tr>\n",
       "      <th>5</th>\n",
       "      <td>Natasha</td>\n",
       "      <td>17</td>\n",
       "      <td>F</td>\n",
       "      <td>NaN</td>\n",
       "    </tr>\n",
       "    <tr>\n",
       "      <th>6</th>\n",
       "      <td>Riya</td>\n",
       "      <td>17</td>\n",
       "      <td>F</td>\n",
       "      <td>71.0</td>\n",
       "    </tr>\n",
       "  </tbody>\n",
       "</table>\n",
       "</div>"
      ],
      "text/plain": [
       "      name  age gender  Marks\n",
       "0      Jai   17      M   90.0\n",
       "1   Princi   17      F   76.0\n",
       "2   Gaurav   18      M    NaN\n",
       "3     Anuj   17      M   74.0\n",
       "4     Ravi   18      M   65.0\n",
       "5  Natasha   17      F    NaN\n",
       "6     Riya   17      F   71.0"
      ]
     },
     "execution_count": 2,
     "metadata": {},
     "output_type": "execute_result"
    }
   ],
   "source": [
    "df = pd.DataFrame(data)\n",
    "df"
   ]
  },
  {
   "cell_type": "code",
   "execution_count": 3,
   "metadata": {},
   "outputs": [
    {
     "name": "stdout",
     "output_type": "stream",
     "text": [
      "avg =  75.2\n"
     ]
    },
    {
     "data": {
      "text/html": [
       "<div>\n",
       "<style scoped>\n",
       "    .dataframe tbody tr th:only-of-type {\n",
       "        vertical-align: middle;\n",
       "    }\n",
       "\n",
       "    .dataframe tbody tr th {\n",
       "        vertical-align: top;\n",
       "    }\n",
       "\n",
       "    .dataframe thead th {\n",
       "        text-align: right;\n",
       "    }\n",
       "</style>\n",
       "<table border=\"1\" class=\"dataframe\">\n",
       "  <thead>\n",
       "    <tr style=\"text-align: right;\">\n",
       "      <th></th>\n",
       "      <th>name</th>\n",
       "      <th>age</th>\n",
       "      <th>gender</th>\n",
       "      <th>Marks</th>\n",
       "    </tr>\n",
       "  </thead>\n",
       "  <tbody>\n",
       "    <tr>\n",
       "      <th>0</th>\n",
       "      <td>Jai</td>\n",
       "      <td>17</td>\n",
       "      <td>0.0</td>\n",
       "      <td>90.0</td>\n",
       "    </tr>\n",
       "    <tr>\n",
       "      <th>1</th>\n",
       "      <td>Princi</td>\n",
       "      <td>17</td>\n",
       "      <td>1.0</td>\n",
       "      <td>76.0</td>\n",
       "    </tr>\n",
       "    <tr>\n",
       "      <th>2</th>\n",
       "      <td>Gaurav</td>\n",
       "      <td>18</td>\n",
       "      <td>0.0</td>\n",
       "      <td>75.2</td>\n",
       "    </tr>\n",
       "    <tr>\n",
       "      <th>3</th>\n",
       "      <td>Anuj</td>\n",
       "      <td>17</td>\n",
       "      <td>0.0</td>\n",
       "      <td>74.0</td>\n",
       "    </tr>\n",
       "    <tr>\n",
       "      <th>4</th>\n",
       "      <td>Ravi</td>\n",
       "      <td>18</td>\n",
       "      <td>0.0</td>\n",
       "      <td>65.0</td>\n",
       "    </tr>\n",
       "    <tr>\n",
       "      <th>5</th>\n",
       "      <td>Natasha</td>\n",
       "      <td>17</td>\n",
       "      <td>1.0</td>\n",
       "      <td>75.2</td>\n",
       "    </tr>\n",
       "    <tr>\n",
       "      <th>6</th>\n",
       "      <td>Riya</td>\n",
       "      <td>17</td>\n",
       "      <td>1.0</td>\n",
       "      <td>71.0</td>\n",
       "    </tr>\n",
       "  </tbody>\n",
       "</table>\n",
       "</div>"
      ],
      "text/plain": [
       "      name  age  gender  Marks\n",
       "0      Jai   17     0.0   90.0\n",
       "1   Princi   17     1.0   76.0\n",
       "2   Gaurav   18     0.0   75.2\n",
       "3     Anuj   17     0.0   74.0\n",
       "4     Ravi   18     0.0   65.0\n",
       "5  Natasha   17     1.0   75.2\n",
       "6     Riya   17     1.0   71.0"
      ]
     },
     "execution_count": 3,
     "metadata": {},
     "output_type": "execute_result"
    }
   ],
   "source": [
    "# Dealing with missing values and Reshaping Data\n",
    "avg = df.mean(numeric_only=True)\n",
    "df['Marks'] = df['Marks'].fillna(avg['Marks'])\n",
    "df['gender'] = df['gender'].map({'M':0, 'F':1}).astype(float)\n",
    "print('avg = ',avg['Marks'])\n",
    "df"
   ]
  },
  {
   "cell_type": "code",
   "execution_count": 4,
   "metadata": {},
   "outputs": [
    {
     "name": "stdout",
     "output_type": "stream",
     "text": [
      "    ID     NAME BRANCH\n",
      "0  101  Jagroop    CSE\n",
      "1  102  Parveen    CSE\n",
      "2  103   Harjot    CSE\n",
      "3  104    Pooha    CSE\n",
      "4  105    Rahul    CSE\n",
      "5  106   Nikita    CSE\n",
      "6  107  Saurabh    CSE\n",
      "7  108    Ayush    CSE\n",
      "8  109    Dolly    CSE\n",
      "9  110    Mohit    CSE\n",
      "\n",
      "\n",
      "     ID PENDING\n",
      "0  101    5000\n",
      "1  102     250\n",
      "2  103     NIL\n",
      "3  104    9000\n",
      "4  105   15000\n",
      "5  106     NIL\n",
      "6  107    4500\n",
      "7  108    1800\n",
      "8  109     250\n",
      "9  110     NIL\n"
     ]
    }
   ],
   "source": [
    "# Creating DataFrame for Student Details\n",
    "details = pd.DataFrame({\n",
    "    'ID' : [101,102,103,104,105,106,107,108,109,110],\n",
    "    'NAME': ['Jagroop','Parveen', 'Harjot', 'Pooha', 'Rahul', 'Nikita', 'Saurabh', 'Ayush', 'Dolly', 'Mohit'],\n",
    "    'BRANCH' : ['CSE', 'CSE', 'CSE', 'CSE', 'CSE', 'CSE', 'CSE', 'CSE', 'CSE', 'CSE' ],\n",
    "    })\n",
    "\n",
    "#Creating Dataframe for Fees_Status\n",
    "fees_status = pd.DataFrame({\n",
    "    \"ID\" : [101,102,103,104,105,106,107,108,109,110],\n",
    "    \"PENDING\" : ['5000', '250', 'NIL', '9000', '15000', 'NIL', '4500', '1800', '250', 'NIL']\n",
    "})\n",
    "\n",
    "#Printing details\n",
    "print(details)\n",
    "\n",
    "#Printing fees_status\n",
    "print(\"\\n\\n\",fees_status)\n"
   ]
  },
  {
   "cell_type": "code",
   "execution_count": 5,
   "metadata": {},
   "outputs": [
    {
     "name": "stdout",
     "output_type": "stream",
     "text": [
      "    ID     NAME BRANCH PENDING\n",
      "0  101  Jagroop    CSE    5000\n",
      "1  102  Parveen    CSE     250\n",
      "2  103   Harjot    CSE     NIL\n",
      "3  104    Pooha    CSE    9000\n",
      "4  105    Rahul    CSE   15000\n",
      "5  106   Nikita    CSE     NIL\n",
      "6  107  Saurabh    CSE    4500\n",
      "7  108    Ayush    CSE    1800\n",
      "8  109    Dolly    CSE     250\n",
      "9  110    Mohit    CSE     NIL\n"
     ]
    }
   ],
   "source": [
    "# Merging Dataframe\n",
    "print(pd.merge(details, fees_status, on='ID'))"
   ]
  }
 ],
 "metadata": {
  "kernelspec": {
   "display_name": "Python 3",
   "language": "python",
   "name": "python3"
  },
  "language_info": {
   "codemirror_mode": {
    "name": "ipython",
    "version": 3
   },
   "file_extension": ".py",
   "mimetype": "text/x-python",
   "name": "python",
   "nbconvert_exporter": "python",
   "pygments_lexer": "ipython3",
   "version": "3.12.2"
  }
 },
 "nbformat": 4,
 "nbformat_minor": 2
}
